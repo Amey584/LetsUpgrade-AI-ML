{
 "cells": [
  {
   "cell_type": "markdown",
   "metadata": {},
   "source": [
    "## Question 1 :\n",
    "Write a Python program to find the first 20 non-even prime natural numbers."
   ]
  },
  {
   "cell_type": "code",
   "execution_count": 30,
   "metadata": {
    "code_folding": []
   },
   "outputs": [
    {
     "name": "stdout",
     "output_type": "stream",
     "text": [
      "Enter number of prime numbers required: 20\n",
      "3 5 7 11 13 17 19 23 29 31 37 41 43 47 53 59 61 67 71 73 "
     ]
    }
   ],
   "source": [
    "prime_count = int(input(\"Enter number of prime numbers required: \"))\n",
    "n = 0\n",
    "num1 = 1\n",
    "while (n < prime_count):\n",
    "    num2 = 1\n",
    "    div = 0\n",
    "    while(num2 <= num1):\n",
    "        if (num1 % 2 != 0):\n",
    "            if(num1 % num2 == 0):\n",
    "                div = div + 1\n",
    "        num2 = num2+1\n",
    "    if(div == 2):\n",
    "        print(num1, end=\" \")\n",
    "        n = n+1\n",
    "    num1 = num1 + 1"
   ]
  },
  {
   "cell_type": "markdown",
   "metadata": {},
   "source": [
    "## Question 2 :\n",
    "Write a Python program to implement 15 functions of string."
   ]
  },
  {
   "cell_type": "code",
   "execution_count": 56,
   "metadata": {},
   "outputs": [
    {
     "name": "stdout",
     "output_type": "stream",
     "text": [
      "Actual String: hi, It is a sunny day  \n",
      "Hi, it is a sunny day  \n",
      "hi, it is a sunny day  \n",
      "HI, IT IS A SUNNY DAY  \n",
      "2\n",
      "10\n",
      "hi, It is a rainy day  \n",
      "19\n",
      "HI, iT IS A SUNNY DAY  \n",
      "hi, It is a sunny day\n",
      "['hi,', 'It', 'is a sunny day  ']\n",
      "['hi, It is a sunny day', '', '']\n",
      "False\n",
      "False\n",
      "False\n",
      "False\n"
     ]
    }
   ],
   "source": [
    "a = \"hi, It is a sunny day  \"\n",
    "print(\"Actual String:\", a)\n",
    "\n",
    "c = a.capitalize()\n",
    "print(c)\n",
    "c = a.lower()\n",
    "print(c)\n",
    "c = a.upper()\n",
    "print(c)\n",
    "c = a.count(\"y\")\n",
    "print(c)\n",
    "c = a.find(\"a\")\n",
    "print(c)\n",
    "c = a.replace(\"sunny\", \"rainy\")\n",
    "print(c)\n",
    "c = a.rfind(\"a\")\n",
    "print(c)\n",
    "c = a.swapcase()\n",
    "print(c)\n",
    "c = a.strip()\n",
    "print(c)\n",
    "c = a.split(\" \", 2)\n",
    "print(c)\n",
    "c = a.rsplit(\" \", 2)\n",
    "print(c)\n",
    "c = a.islower()\n",
    "print(c)\n",
    "c = a.isupper()\n",
    "print(c)\n",
    "c = a.isalpha()\n",
    "print(c)\n",
    "c = a.isnumeric()\n",
    "print(c)"
   ]
  },
  {
   "cell_type": "markdown",
   "metadata": {},
   "source": [
    "## Question 3:\n",
    "Write a Python program to check if the given string is a Palindrome or Anagram or None of them.\n",
    "Display the message accordingly to the user."
   ]
  },
  {
   "cell_type": "code",
   "execution_count": 3,
   "metadata": {},
   "outputs": [
    {
     "name": "stdout",
     "output_type": "stream",
     "text": [
      "Enter the First String: test\n",
      "Enter the Second String: test\n",
      "Entered String: \"test\" is a neither Palindrome nor Anagram\n"
     ]
    }
   ],
   "source": [
    "str1 = input(\"Enter the First String: \")\n",
    "str2 = input(\"Enter the Second String: \")\n",
    "\n",
    "\n",
    "def findStringType(a, b):\n",
    "    c = sorted(a)\n",
    "    d = sorted(b)\n",
    "    if(a == a[::-1]):\n",
    "        print(\"Entered String: \\\"%s\\\" is a Palindrome\" % a)\n",
    "    elif (a != b) and (c==d):\n",
    "        print(\"Entered Strings: \\\"%s\\\" and \\\"%s\\\" are Anagrams\" % (a, b))\n",
    "    else:\n",
    "        print(\"Entered String: \\\"%s\\\" is a neither Palindrome nor Anagram\" % a)\n",
    "\n",
    "\n",
    "findStringType(str1, str2)"
   ]
  },
  {
   "cell_type": "markdown",
   "metadata": {},
   "source": [
    "## Question 4:\n",
    "Write a Python's user defined function that removes all the additional characters from the string\n",
    "and converts it finally to lower case using built-in lower(). eg: If the string is \"Dr. Darshan Ingle\n",
    "@AI-ML Trainer\", then the output be \"drdarshaningleaimltrainer\"."
   ]
  },
  {
   "cell_type": "code",
   "execution_count": 4,
   "metadata": {},
   "outputs": [
    {
     "name": "stdout",
     "output_type": "stream",
     "text": [
      "Enter a string with special charcters: Hi!, my email is \"amey-narvekar01@gmailcom\" started in year*: 2012;\n",
      "himyemailisameynarvekar01gmailcomstartedinyear2012\n"
     ]
    }
   ],
   "source": [
    "#sample_string = Hi!, my email is \"amey-narvekar01@gmailcom\" started in year*: 2012;\n",
    "a = input(\"Enter a string with special charcters: \")\n",
    "\n",
    "# additonal charcters to be removed placed in a list\n",
    "unwanted_characters = [\" \", \",\", \".\", \"\\'\", \"@\", \"-\", \"\\\"\",\"!\", \";\",\":\",\"*\"]\n",
    "\n",
    "for x in unwanted_characters:\n",
    "    a = a.replace(x, \"\")\n",
    "print(a.lower())"
   ]
  },
  {
   "cell_type": "code",
   "execution_count": null,
   "metadata": {},
   "outputs": [],
   "source": []
  }
 ],
 "metadata": {
  "kernelspec": {
   "display_name": "Python 3",
   "language": "python",
   "name": "python3"
  },
  "language_info": {
   "codemirror_mode": {
    "name": "ipython",
    "version": 3
   },
   "file_extension": ".py",
   "mimetype": "text/x-python",
   "name": "python",
   "nbconvert_exporter": "python",
   "pygments_lexer": "ipython3",
   "version": "3.7.6"
  },
  "varInspector": {
   "cols": {
    "lenName": 16,
    "lenType": 16,
    "lenVar": 40
   },
   "kernels_config": {
    "python": {
     "delete_cmd_postfix": "",
     "delete_cmd_prefix": "del ",
     "library": "var_list.py",
     "varRefreshCmd": "print(var_dic_list())"
    },
    "r": {
     "delete_cmd_postfix": ") ",
     "delete_cmd_prefix": "rm(",
     "library": "var_list.r",
     "varRefreshCmd": "cat(var_dic_list()) "
    }
   },
   "types_to_exclude": [
    "module",
    "function",
    "builtin_function_or_method",
    "instance",
    "_Feature"
   ],
   "window_display": false
  }
 },
 "nbformat": 4,
 "nbformat_minor": 4
}
