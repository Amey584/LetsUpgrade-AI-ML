{
 "cells": [
  {
   "cell_type": "code",
   "execution_count": 3,
   "metadata": {},
   "outputs": [
    {
     "name": "stdout",
     "output_type": "stream",
     "text": [
      "Subtraction Result = (1.5-1.5j)\n"
     ]
    }
   ],
   "source": [
    "#program to subtract two complex numbers\n",
    "num1 = 2.5+5j\n",
    "num2 = 1+6.5j\n",
    "result = num1-num2\n",
    "print(\"Subtraction Result =\",result)"
   ]
  },
  {
   "cell_type": "code",
   "execution_count": 8,
   "metadata": {},
   "outputs": [
    {
     "name": "stdout",
     "output_type": "stream",
     "text": [
      "4 root of 256 is 4.0\n"
     ]
    }
   ],
   "source": [
    "# program to find the fourth root of a number\n",
    "num = 256\n",
    "root = 4\n",
    "result = num**(1/root)\n",
    "print(root,\"root of\",num,\"is\",result)"
   ]
  },
  {
   "cell_type": "code",
   "execution_count": 10,
   "metadata": {},
   "outputs": [
    {
     "name": "stdout",
     "output_type": "stream",
     "text": [
      "Initial Values: a= 10 and b= 5\n",
      "Swapped Values: a= 5 and b= 10\n"
     ]
    }
   ],
   "source": [
    "# program to swap two numbers in Python with the help of a temporary variable\n",
    "a = 10\n",
    "b = 5\n",
    "print(\"Initial Values: a=\",a,\"and b=\",b)\n",
    "c=a\n",
    "a=b\n",
    "b=c\n",
    "print(\"Swapped Values: a=\",a,\"and b=\",b)"
   ]
  },
  {
   "cell_type": "code",
   "execution_count": 11,
   "metadata": {},
   "outputs": [
    {
     "name": "stdout",
     "output_type": "stream",
     "text": [
      "Initial Values: a= 23 and b= 37\n",
      "Swapped Values: a= 37 and b= 23\n"
     ]
    }
   ],
   "source": [
    "#program to swap two numbers in Python without using a temporary variable\n",
    "a = 23\n",
    "b = 37\n",
    "print(\"Initial Values: a=\",a,\"and b=\",b)\n",
    "a=a+b\n",
    "b=a-b\n",
    "a=a-b\n",
    "print(\"Swapped Values: a=\",a,\"and b=\",b)"
   ]
  },
  {
   "cell_type": "code",
   "execution_count": 4,
   "metadata": {},
   "outputs": [
    {
     "name": "stdout",
     "output_type": "stream",
     "text": [
      "Temperature in Celcius: 37.22222222222222\n",
      "Temperature in Kelvin: 310.3722222222222\n"
     ]
    }
   ],
   "source": [
    "# program to convert fahrenheit to kelvin and celsius both\n",
    "tempin_F = 99\n",
    "tempin_Cel = (tempin_F-32)/1.80\n",
    "tempin_K = tempin_Cel + 273.15\n",
    "print(\"Temperature in Celcius:\",tempin_Cel)\n",
    "print(\"Temperature in Kelvin:\",tempin_K)"
   ]
  },
  {
   "cell_type": "code",
   "execution_count": 1,
   "metadata": {},
   "outputs": [
    {
     "name": "stdout",
     "output_type": "stream",
     "text": [
      "<class 'int'>\n",
      "<class 'float'>\n",
      "<class 'complex'>\n",
      "<class 'str'>\n",
      "<class 'tuple'>\n",
      "<class 'list'>\n",
      "<class 'set'>\n",
      "<class 'dict'>\n",
      "<class 'bool'>\n"
     ]
    }
   ],
   "source": [
    "# program to demonstrate all the available data types in Python\n",
    "\n",
    "#Numbers\n",
    "print(type(8))\n",
    "print(type(6.78))\n",
    "print(type(9+56j))\n",
    "\n",
    "#String\n",
    "print(type(\"Hello\"))\n",
    "\n",
    "#tuple\n",
    "tup = (23, 5.8,\"LetsUpgrade\")\n",
    "print(type(tup))\n",
    "\n",
    "#list\n",
    "A= [\"test\", 9089, 93.67]\n",
    "print(type(A))\n",
    "\n",
    "#set\n",
    "Set1 = {6, \"yupp\"}\n",
    "print(type(Set1))\n",
    "\n",
    "#Dictionary\n",
    "Guest = {\"Name\":\"Amey\", \"Age\": 25}\n",
    "print(type(Guest))\n",
    "\n",
    "#Boolean\n",
    "print(type(True))"
   ]
  },
  {
   "cell_type": "markdown",
   "metadata": {},
   "source": [
    "__Create a Markdown cell in jupyter and list the steps discussed in the session by Dr. Darshan\n",
    "Ingle sir to create Github profile and upload Githubs Assignment link__\n",
    "\n",
    "Create a Github public repo and name it LetsUpgrade AI/ML.\n",
    "Upload the files/solution in the repo in day wise manner.\n",
    "Copy the URL of the Folder of that day and paste in the Assignment Submission Form (Google Form).\n",
    "Make sure you are filling correct details in the Assignment Submission Form.\n",
    "All the drop-downs will be available till the week end only. i.e Previous weeks drop-down will disappear on each Sunday 11:59 PM.\n",
    "You have to submit all the assignment given during the weekdays by respective ___SUNDAY 11:59 PM IST___."
   ]
  },
  {
   "cell_type": "code",
   "execution_count": null,
   "metadata": {},
   "outputs": [],
   "source": []
  }
 ],
 "metadata": {
  "kernelspec": {
   "display_name": "Python 3",
   "language": "python",
   "name": "python3"
  },
  "language_info": {
   "codemirror_mode": {
    "name": "ipython",
    "version": 3
   },
   "file_extension": ".py",
   "mimetype": "text/x-python",
   "name": "python",
   "nbconvert_exporter": "python",
   "pygments_lexer": "ipython3",
   "version": "3.7.6"
  }
 },
 "nbformat": 4,
 "nbformat_minor": 4
}
