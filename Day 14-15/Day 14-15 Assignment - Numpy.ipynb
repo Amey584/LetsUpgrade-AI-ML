{
 "cells": [
  {
   "cell_type": "markdown",
   "metadata": {},
   "source": [
    "# 1. Create a 3x3x3 array with random values "
   ]
  },
  {
   "cell_type": "code",
   "execution_count": 93,
   "metadata": {},
   "outputs": [
    {
     "name": "stdout",
     "output_type": "stream",
     "text": [
      "[[[0.56321649 0.28019952 0.84859617]\n",
      "  [0.9279723  0.73281188 0.30563038]\n",
      "  [0.50183073 0.24664629 0.53973183]]\n",
      "\n",
      " [[0.23019802 0.90915827 0.22190156]\n",
      "  [0.58666929 0.04335138 0.20606783]\n",
      "  [0.38972966 0.02933981 0.33843729]]\n",
      "\n",
      " [[0.71642748 0.12535059 0.83350356]\n",
      "  [0.77193173 0.75387263 0.60796161]\n",
      "  [0.23676932 0.12047661 0.21746639]]]\n"
     ]
    }
   ],
   "source": [
    "import numpy as np\n",
    "A = np.empty((3,3,3))\n",
    "print(A)\n",
    "\n",
    "# B = np.random.randint(100, size =(3,3,3))\n",
    "# print(B)\n",
    "# B = np.random.random(size = (3,3,3))\n",
    "# print(B)\n",
    "# B = np.random.rand(3,3,3)\n",
    "# print(B)"
   ]
  },
  {
   "cell_type": "markdown",
   "metadata": {},
   "source": [
    "# 2.Create a 5x5 matrix with values 1,2,3,4 just below the diagonal"
   ]
  },
  {
   "cell_type": "code",
   "execution_count": 17,
   "metadata": {},
   "outputs": [
    {
     "name": "stdout",
     "output_type": "stream",
     "text": [
      "[[0 0 0 0 0]\n",
      " [1 0 0 0 0]\n",
      " [0 2 0 0 0]\n",
      " [0 0 3 0 0]\n",
      " [0 0 0 4 0]]\n"
     ]
    }
   ],
   "source": [
    "import numpy as np\n",
    "v = [1,2,3,4]\n",
    "arr_A = np.diag(v, k = -1)\n",
    "print(arr_A)"
   ]
  },
  {
   "cell_type": "markdown",
   "metadata": {},
   "source": [
    "# 3.Create a 8x8 matrix and fill it with a checkerboard pattern"
   ]
  },
  {
   "cell_type": "code",
   "execution_count": 34,
   "metadata": {},
   "outputs": [
    {
     "data": {
      "text/plain": [
       "array([[0, 1, 0, 1, 0, 1, 0, 1],\n",
       "       [1, 0, 1, 0, 1, 0, 1, 0],\n",
       "       [0, 1, 0, 1, 0, 1, 0, 1],\n",
       "       [1, 0, 1, 0, 1, 0, 1, 0],\n",
       "       [0, 1, 0, 1, 0, 1, 0, 1],\n",
       "       [1, 0, 1, 0, 1, 0, 1, 0],\n",
       "       [0, 1, 0, 1, 0, 1, 0, 1],\n",
       "       [1, 0, 1, 0, 1, 0, 1, 0]])"
      ]
     },
     "execution_count": 34,
     "metadata": {},
     "output_type": "execute_result"
    }
   ],
   "source": [
    "import numpy as np\n",
    "check = np.zeros((8,8), dtype = int)\n",
    "check[1::2, ::2] = 1\n",
    "check[::2, 1::2] = 1\n",
    "print(check)"
   ]
  },
  {
   "cell_type": "markdown",
   "metadata": {},
   "source": [
    "# 4. Normalize a 5x5 random matrix"
   ]
  },
  {
   "cell_type": "code",
   "execution_count": 161,
   "metadata": {},
   "outputs": [
    {
     "name": "stdout",
     "output_type": "stream",
     "text": [
      "Original Array: \n",
      "\n",
      "[[8 6 6]\n",
      " [2 7 2]\n",
      " [3 4 3]\n",
      " [8 2 4]\n",
      " [3 5 6]]\n",
      "\n",
      "Norm Value: 19.519221295943137\n",
      "\n",
      "Normailzed Array: \n",
      "\n",
      "[[0.40985242 0.30738931 0.30738931]\n",
      " [0.1024631  0.35862086 0.1024631 ]\n",
      " [0.15369466 0.20492621 0.15369466]\n",
      " [0.40985242 0.1024631  0.20492621]\n",
      " [0.15369466 0.25615776 0.30738931]]\n"
     ]
    }
   ],
   "source": [
    "import numpy as np\n",
    "print(\"Original Array: \\n\")\n",
    "OG_Arr = np.random.randint(1,9, size =(5,3))\n",
    "print(OG_Arr)\n",
    "norm = np.linalg.norm(OG_Arr)\n",
    "print(\"\\nNorm Value:\",norm)\n",
    "if(norm>0):\n",
    "    print(\"\\nNormailzed Array: \\n\")\n",
    "    Norm_Arr = OG_Arr/norm\n",
    "    print(Norm_Arr)"
   ]
  },
  {
   "cell_type": "markdown",
   "metadata": {},
   "source": [
    "# 5.  How to find common values between two arrays?"
   ]
  },
  {
   "cell_type": "code",
   "execution_count": 45,
   "metadata": {},
   "outputs": [
    {
     "name": "stdout",
     "output_type": "stream",
     "text": [
      "Array1: [1 2 3 6 8 9]\n",
      "Array2: [10  3  9  5  7]\n",
      "Common values: [3 9]\n"
     ]
    }
   ],
   "source": [
    "import numpy as np\n",
    "Arr1 = np.array([1,2,3,6,8,9])\n",
    "Arr2 = np.array([10,3,9,5,7])\n",
    "print(\"Array1:\",Arr1)\n",
    "print(\"Array2:\",Arr2)\n",
    "print(\"Common values:\",np.intersect1d(Arr1,Arr2))"
   ]
  },
  {
   "cell_type": "markdown",
   "metadata": {},
   "source": [
    "# 6.How to get the dates of yesterday, today and tomorrow?"
   ]
  },
  {
   "cell_type": "code",
   "execution_count": 49,
   "metadata": {},
   "outputs": [
    {
     "name": "stdout",
     "output_type": "stream",
     "text": [
      "Today:  2020-07-27\n",
      "Yestraday:  2020-07-26\n",
      "Tomorrow:  2020-07-28\n"
     ]
    }
   ],
   "source": [
    "import numpy as np\n",
    "today     = np.datetime64('today')\n",
    "print(\"Today: \",today)\n",
    "\n",
    "yesterday = np.datetime64('today') - np.timedelta64(1)\n",
    "print(\"Yestraday: \",yesterday)\n",
    "\n",
    "tomorrow  = np.datetime64('today') + np.timedelta64(1)\n",
    "print(\"Tomorrow: \",tomorrow)"
   ]
  },
  {
   "cell_type": "markdown",
   "metadata": {},
   "source": [
    "# 7. Consider two random array A and B, check if they are equal"
   ]
  },
  {
   "cell_type": "code",
   "execution_count": 68,
   "metadata": {},
   "outputs": [
    {
     "name": "stdout",
     "output_type": "stream",
     "text": [
      "[1 1 0 1 0]\n",
      "[1 1 1 0 0]\n",
      "False\n"
     ]
    }
   ],
   "source": [
    "import numpy as np\n",
    "A = np.random.randint(0,2,5)\n",
    "print(A)\n",
    "B = np.random.randint(0,2,5)\n",
    "print(B)\n",
    "print(np.array_equal(A,B))"
   ]
  },
  {
   "cell_type": "markdown",
   "metadata": {},
   "source": [
    "# 8.Create random vector of size 10 and replace the maximum value by 0 "
   ]
  },
  {
   "cell_type": "code",
   "execution_count": 80,
   "metadata": {},
   "outputs": [
    {
     "name": "stdout",
     "output_type": "stream",
     "text": [
      "Actual Vector:\n",
      " [0.5931552  0.80936249 0.79741431 0.09733676 0.90222546 0.35605896\n",
      " 0.36083041 0.59385331 0.46996208 0.97583458]\n",
      "Maximum value replaced Vector:\n",
      "[0.5931552  0.80936249 0.79741431 0.09733676 0.90222546 0.35605896\n",
      " 0.36083041 0.59385331 0.46996208 0.        ]\n"
     ]
    }
   ],
   "source": [
    "import numpy as np\n",
    "x = np.random.random(10)\n",
    "print(\"Actual Vector:\\n\",x)\n",
    "x[x.argmax()] = 0\n",
    "print(\"Maximum value replaced Vector:\")\n",
    "print(x)\n"
   ]
  },
  {
   "cell_type": "markdown",
   "metadata": {},
   "source": [
    "# 9. How to print all the values of an array?"
   ]
  },
  {
   "cell_type": "code",
   "execution_count": 162,
   "metadata": {},
   "outputs": [
    {
     "name": "stdout",
     "output_type": "stream",
     "text": [
      "[[0. 0. 0. 0.]\n",
      " [0. 0. 0. 0.]\n",
      " [0. 0. 0. 0.]\n",
      " [0. 0. 0. 0.]]\n"
     ]
    }
   ],
   "source": [
    "import numpy as np\n",
    "np.set_printoptions(threshold=np.inf)\n",
    "k = np.zeros((4,4))\n",
    "print(k)"
   ]
  },
  {
   "cell_type": "markdown",
   "metadata": {},
   "source": [
    "# 10.Subtract the mean of each row of a matrix"
   ]
  },
  {
   "cell_type": "code",
   "execution_count": 105,
   "metadata": {},
   "outputs": [
    {
     "name": "stdout",
     "output_type": "stream",
     "text": [
      "Original matrix:\n",
      "\n",
      "[[0.29960849 0.56741536]\n",
      " [0.91374651 0.48121287]\n",
      " [0.40488374 0.84396355]\n",
      " [0.53933563 0.74312934]\n",
      " [0.17722255 0.32910728]]\n",
      "\n",
      "Subtract the mean of each row of the said matrix:\n",
      "\n",
      "[[-0.13390343  0.13390343]\n",
      " [ 0.21626682 -0.21626682]\n",
      " [-0.21953991  0.21953991]\n",
      " [-0.10189685  0.10189685]\n",
      " [-0.07594236  0.07594236]]\n"
     ]
    }
   ],
   "source": [
    "import numpy as np\n",
    "print(\"Original matrix:\\n\")\n",
    "X = np.random.rand(5, 2)\n",
    "print(X)\n",
    "print(\"\\nSubtract the mean of each row of the said matrix:\\n\")\n",
    "Y = X - X.mean(axis=1, keepdims=True)\n",
    "print(Y)"
   ]
  },
  {
   "cell_type": "markdown",
   "metadata": {},
   "source": [
    "## 11.Consider a given vector, how to add 1 to each element indexed by a second vector (be careful with repeated indices)? "
   ]
  },
  {
   "cell_type": "code",
   "execution_count": 136,
   "metadata": {},
   "outputs": [
    {
     "name": "stdout",
     "output_type": "stream",
     "text": [
      "OG Vector: [0 1 2 3 4 5 6 7 8 9]\n",
      "Index Vector: [1 3 4 6]\n",
      "Result Vector: [0 2 2 4 5 5 7 7 8 9]\n"
     ]
    }
   ],
   "source": [
    "import numpy as np\n",
    "vec_A = np.arange(10)\n",
    "vec_B = np.random.randint(0, 9, size = 4)\n",
    "vec_B = np.unique(vec_B)\n",
    "print(\"OG Vector:\",vec_A)\n",
    "print(\"Index Vector:\",vec_B)\n",
    "for x in vec_B:\n",
    "    vec_A[x] =vec_A[x]+1\n",
    "print(\"Result Vector:\",vec_A)"
   ]
  },
  {
   "cell_type": "markdown",
   "metadata": {},
   "source": [
    "# 12.How to get the diagonal of a dot product?"
   ]
  },
  {
   "cell_type": "code",
   "execution_count": 133,
   "metadata": {},
   "outputs": [
    {
     "name": "stdout",
     "output_type": "stream",
     "text": [
      "[[6 4 5]\n",
      " [8 0 0]\n",
      " [4 4 9]]\n",
      "[[2 7 2]\n",
      " [9 6 5]\n",
      " [2 0 4]]\n",
      "[[58 66 52]\n",
      " [16 56 16]\n",
      " [62 52 64]]\n",
      "[58 56 64]\n"
     ]
    }
   ],
   "source": [
    "A = np.random.randint(0,10,(3,3))\n",
    "print(A)\n",
    "B= np.random.randint(0,10,(3,3))\n",
    "print(B)\n",
    "#Slow version\n",
    "C=np.dot(A, B)\n",
    "print(C)\n",
    "D=np.diag(C)\n",
    "print(D)"
   ]
  },
  {
   "cell_type": "markdown",
   "metadata": {},
   "source": [
    "# 13.How to find the most frequent value in an array?"
   ]
  },
  {
   "cell_type": "code",
   "execution_count": 128,
   "metadata": {},
   "outputs": [
    {
     "name": "stdout",
     "output_type": "stream",
     "text": [
      "Original array: [7 8 6 6 4 6 2 7 5 4 6 0 9 2 8]\n",
      "Most frequent value in the above array:\n",
      "6\n"
     ]
    }
   ],
   "source": [
    "x = np.random.randint(0, 10, 15)\n",
    "print(\"Original array:\",x)\n",
    "print(\"Most frequent value in the above array:\")\n",
    "print(np.bincount(x).argmax())"
   ]
  },
  {
   "cell_type": "markdown",
   "metadata": {},
   "source": [
    "# 14.How to get the n largest values of an array"
   ]
  },
  {
   "cell_type": "code",
   "execution_count": 138,
   "metadata": {},
   "outputs": [
    {
     "name": "stdout",
     "output_type": "stream",
     "text": [
      "Original array:\n",
      "[13  8  6 34  2  7 32 12]\n",
      "Enter the number (n):4\n",
      "[12 13 32 34]\n"
     ]
    }
   ],
   "source": [
    "import numpy as np\n",
    "x = np.array([13,8,6,34,2,7,32,12])\n",
    "print(\"Original array:\")\n",
    "print(x)\n",
    "n = int(input(\"Enter the number (n):\"))\n",
    "print (x[np.argsort(x)[-n:]])"
   ]
  },
  {
   "cell_type": "markdown",
   "metadata": {},
   "source": [
    "# 15.How to create a record array from a regular array?"
   ]
  },
  {
   "cell_type": "code",
   "execution_count": 163,
   "metadata": {},
   "outputs": [
    {
     "name": "stdout",
     "output_type": "stream",
     "text": [
      "Original Array:\n",
      "[['Jack' 'Nick']\n",
      " ['25.6' '18.2']\n",
      " ['11' '19']]\n",
      "\n",
      "Record Array:\n",
      "[('Jack', '25.6', '11') ('Nick', '18.2', '19')]\n"
     ]
    }
   ],
   "source": [
    "import numpy as np\n",
    "arr = np.array([[\"Jack\", \"Nick\"],  #names\n",
    "               [25.6, 18.2],       #Age\n",
    "               [11, 19]])          #BirthDates\n",
    "print(\"Original Array:\")\n",
    "print(arr)\n",
    "\n",
    "recordsrd_arr = np.core.records.fromarrays(arr,names='a,b,c')\n",
    "print(\"\\nRecord Array:\")\n",
    "print(recordsrd_arr)\n",
    "\n",
    "# print(recordsrd_arr.a)\n",
    "# print(recordsrd_arr.b)\n",
    "# print(recordsrd_arr.c)\n",
    "# print(recordsrd_arr[1])\n",
    "# print(recordsrd_arr[0])"
   ]
  }
 ],
 "metadata": {
  "kernelspec": {
   "display_name": "Python 3",
   "language": "python",
   "name": "python3"
  },
  "language_info": {
   "codemirror_mode": {
    "name": "ipython",
    "version": 3
   },
   "file_extension": ".py",
   "mimetype": "text/x-python",
   "name": "python",
   "nbconvert_exporter": "python",
   "pygments_lexer": "ipython3",
   "version": "3.7.6"
  },
  "varInspector": {
   "cols": {
    "lenName": 16,
    "lenType": 16,
    "lenVar": 40
   },
   "kernels_config": {
    "python": {
     "delete_cmd_postfix": "",
     "delete_cmd_prefix": "del ",
     "library": "var_list.py",
     "varRefreshCmd": "print(var_dic_list())"
    },
    "r": {
     "delete_cmd_postfix": ") ",
     "delete_cmd_prefix": "rm(",
     "library": "var_list.r",
     "varRefreshCmd": "cat(var_dic_list()) "
    }
   },
   "types_to_exclude": [
    "module",
    "function",
    "builtin_function_or_method",
    "instance",
    "_Feature"
   ],
   "window_display": false
  }
 },
 "nbformat": 4,
 "nbformat_minor": 2
}
