{
 "cells": [
  {
   "cell_type": "markdown",
   "metadata": {},
   "source": [
    "## Sets\n",
    "A set is a collection which is unordered and unindexed. In Python sets are written with curly brackets.\n",
    "Every set element is unique (no duplicates) and must be immutable (cannot be changed). However, a set itself is mutable. We can add or remove items from it."
   ]
  },
  {
   "cell_type": "code",
   "execution_count": 10,
   "metadata": {},
   "outputs": [
    {
     "name": "stdout",
     "output_type": "stream",
     "text": [
      "{'Moto', 'Samsung', 'Iphone'}\n",
      "<class 'set'>\n",
      "{1, (1, 8, 'RTO'), 7.9567, 'test', (5+6j)}\n"
     ]
    }
   ],
   "source": [
    "#Creating Sets\n",
    "Mobiles = {\"Moto\", \"Samsung\", \"Iphone\"}\n",
    "print(Mobiles)\n",
    "print(type(Mobiles))\n",
    "A ={1, 7.9567, \"test\",5+6j, (1, 8 ,\"RTO\")}\n",
    "print(A)"
   ]
  },
  {
   "cell_type": "code",
   "execution_count": 11,
   "metadata": {},
   "outputs": [
    {
     "name": "stdout",
     "output_type": "stream",
     "text": [
      "Moto\n",
      "Samsung\n",
      "Iphone\n",
      "1\n",
      "(1, 8, 'RTO')\n",
      "7.9567\n",
      "test\n",
      "(5+6j)\n"
     ]
    }
   ],
   "source": [
    "#accessing elements of a set:\n",
    "for x in Mobiles:\n",
    "    print(x)\n",
    "for y in A:\n",
    "    print(y)"
   ]
  },
  {
   "cell_type": "markdown",
   "metadata": {},
   "source": [
    "__Change is not allowed__<br>\n",
    "Once a set is created, you cannot change its items, but you can add new items."
   ]
  },
  {
   "cell_type": "code",
   "execution_count": 9,
   "metadata": {},
   "outputs": [
    {
     "name": "stdout",
     "output_type": "stream",
     "text": [
      "{'mango', 'apple', 'banana'}\n",
      "{'mango', 'apple', 'banana', 'Pear'}\n",
      "{'mango', 'apple', 'banana', 'Pear'}\n"
     ]
    }
   ],
   "source": [
    "fruits ={\"banana\", \"apple\", \"mango\"}\n",
    "print(fruits)\n",
    "fruits.add(\"Pear\")\n",
    "print(fruits)\n",
    "fruits.add(\"mango\") #if already present element is added, set is not changed\n",
    "print(fruits)"
   ]
  },
  {
   "cell_type": "code",
   "execution_count": 10,
   "metadata": {},
   "outputs": [
    {
     "name": "stdout",
     "output_type": "stream",
     "text": [
      "{'mango', 'apple', 'kiwi', 'orange', 'Pear', 'banana'}\n"
     ]
    }
   ],
   "source": [
    "#adds multiple elements to the set:\n",
    "fruits.update([\"orange\", \"kiwi\"])\n",
    "print(fruits)"
   ]
  },
  {
   "cell_type": "code",
   "execution_count": 5,
   "metadata": {},
   "outputs": [
    {
     "name": "stdout",
     "output_type": "stream",
     "text": [
      "6\n"
     ]
    }
   ],
   "source": [
    "#length of set\n",
    "print(len(fruits))"
   ]
  },
  {
   "cell_type": "code",
   "execution_count": 11,
   "metadata": {},
   "outputs": [
    {
     "name": "stdout",
     "output_type": "stream",
     "text": [
      "{'mango', 'apple', 'orange', 'Pear', 'banana'}\n",
      "{'mango', 'apple', 'orange', 'Pear', 'banana'}\n",
      "{'mango', 'apple', 'orange', 'banana'}\n"
     ]
    },
    {
     "ename": "KeyError",
     "evalue": "'Pear'",
     "output_type": "error",
     "traceback": [
      "\u001b[1;31m---------------------------------------------------------------------------\u001b[0m",
      "\u001b[1;31mKeyError\u001b[0m                                  Traceback (most recent call last)",
      "\u001b[1;32m<ipython-input-11-16ad048077c9>\u001b[0m in \u001b[0;36m<module>\u001b[1;34m\u001b[0m\n\u001b[0;32m      6\u001b[0m \u001b[0mfruits\u001b[0m\u001b[1;33m.\u001b[0m\u001b[0mremove\u001b[0m\u001b[1;33m(\u001b[0m\u001b[1;34m\"Pear\"\u001b[0m\u001b[1;33m)\u001b[0m\u001b[1;33m\u001b[0m\u001b[1;33m\u001b[0m\u001b[0m\n\u001b[0;32m      7\u001b[0m \u001b[0mprint\u001b[0m\u001b[1;33m(\u001b[0m\u001b[0mfruits\u001b[0m\u001b[1;33m)\u001b[0m\u001b[1;33m\u001b[0m\u001b[1;33m\u001b[0m\u001b[0m\n\u001b[1;32m----> 8\u001b[1;33m \u001b[0mfruits\u001b[0m\u001b[1;33m.\u001b[0m\u001b[0mremove\u001b[0m\u001b[1;33m(\u001b[0m\u001b[1;34m\"Pear\"\u001b[0m\u001b[1;33m)\u001b[0m \u001b[1;31m#if called again doesnt give error\u001b[0m\u001b[1;33m\u001b[0m\u001b[1;33m\u001b[0m\u001b[0m\n\u001b[0m\u001b[0;32m      9\u001b[0m \u001b[0mprint\u001b[0m\u001b[1;33m(\u001b[0m\u001b[0mfruits\u001b[0m\u001b[1;33m)\u001b[0m\u001b[1;33m\u001b[0m\u001b[1;33m\u001b[0m\u001b[0m\n",
      "\u001b[1;31mKeyError\u001b[0m: 'Pear'"
     ]
    }
   ],
   "source": [
    "#discard and remove \n",
    "fruits.discard(\"kiwi\")\n",
    "print(fruits)\n",
    "fruits.discard(\"kiwi\") #if called again doesnt give error\n",
    "print(fruits)\n",
    "fruits.remove(\"Pear\") \n",
    "print(fruits)\n",
    "fruits.remove(\"Pear\") #if called again gives error\n",
    "print(fruits)"
   ]
  },
  {
   "cell_type": "code",
   "execution_count": 15,
   "metadata": {},
   "outputs": [
    {
     "name": "stdout",
     "output_type": "stream",
     "text": [
      "set()\n"
     ]
    },
    {
     "ename": "NameError",
     "evalue": "name 'fruits' is not defined",
     "output_type": "error",
     "traceback": [
      "\u001b[1;31m---------------------------------------------------------------------------\u001b[0m",
      "\u001b[1;31mNameError\u001b[0m                                 Traceback (most recent call last)",
      "\u001b[1;32m<ipython-input-15-7c0e7ff62f93>\u001b[0m in \u001b[0;36m<module>\u001b[1;34m\u001b[0m\n\u001b[0;32m      5\u001b[0m \u001b[0mfruits\u001b[0m \u001b[1;33m=\u001b[0m \u001b[1;33m{\u001b[0m\u001b[1;34m\"banana\"\u001b[0m\u001b[1;33m,\u001b[0m \u001b[1;34m\"apple\"\u001b[0m\u001b[1;33m,\u001b[0m \u001b[1;34m\"mango\"\u001b[0m\u001b[1;33m}\u001b[0m\u001b[1;33m;\u001b[0m\u001b[1;33m\u001b[0m\u001b[1;33m\u001b[0m\u001b[0m\n\u001b[0;32m      6\u001b[0m \u001b[1;32mdel\u001b[0m\u001b[1;33m(\u001b[0m\u001b[0mfruits\u001b[0m\u001b[1;33m)\u001b[0m\u001b[1;33m\u001b[0m\u001b[1;33m\u001b[0m\u001b[0m\n\u001b[1;32m----> 7\u001b[1;33m \u001b[0mprint\u001b[0m\u001b[1;33m(\u001b[0m\u001b[0mfruits\u001b[0m\u001b[1;33m)\u001b[0m\u001b[1;33m\u001b[0m\u001b[1;33m\u001b[0m\u001b[0m\n\u001b[0m",
      "\u001b[1;31mNameError\u001b[0m: name 'fruits' is not defined"
     ]
    }
   ],
   "source": [
    "#clear and del\n",
    "fruits = {\"banana\", \"apple\", \"mango\"};\n",
    "fruits.clear();\n",
    "print(fruits)            #clear the data of set\n",
    "fruits = {\"banana\", \"apple\", \"mango\"};\n",
    "del(fruits)              #deletes the set completely\n",
    "print(fruits)"
   ]
  },
  {
   "cell_type": "code",
   "execution_count": 18,
   "metadata": {},
   "outputs": [
    {
     "name": "stdout",
     "output_type": "stream",
     "text": [
      "{'test', 1, 9.8}\n",
      "{0.8, 10, 'tuple'}\n"
     ]
    }
   ],
   "source": [
    "#set constructor\n",
    "A = [1, 9.8,\"test\"]\n",
    "setA =set(A);\n",
    "print(setA)\n",
    "B = (10, .8,\"tuple\")\n",
    "setB =set(B);\n",
    "print(setB)"
   ]
  },
  {
   "cell_type": "code",
   "execution_count": 23,
   "metadata": {},
   "outputs": [
    {
     "name": "stdout",
     "output_type": "stream",
     "text": [
      "False\n",
      "True\n",
      "{'Jacksons', 'DBZ'}\n",
      "{'Jacksons', 'DBZ', \"Poke'mon\", 'Tom & Jerry', 'Johny Bravo', 'Popeye'}\n",
      "False\n",
      "True\n",
      "True\n"
     ]
    }
   ],
   "source": [
    "#set Operations\n",
    "setA = {\"Tom & Jerry\", \"Jacksons\", \"DBZ\", \"Popeye\"}\n",
    "setB = {\"Jacksons\", \"DBZ\", \"Johny Bravo\", \"Poke'mon\"}\n",
    "setC = {\"Tom & Jerry\", \"Jacksons\"}\n",
    "print(\"Poke'mon\" in setA)\n",
    "print(\"Poke'mon\" in setB)\n",
    "print(setA & setB)\n",
    "print(setA.union(setB))\n",
    "print(setA.issubset(setB))\n",
    "print(setC.issubset(setA))\n",
    "print(setA.issuperset(setC))"
   ]
  },
  {
   "cell_type": "code",
   "execution_count": null,
   "metadata": {},
   "outputs": [],
   "source": []
  }
 ],
 "metadata": {
  "kernelspec": {
   "display_name": "Python 3",
   "language": "python",
   "name": "python3"
  },
  "language_info": {
   "codemirror_mode": {
    "name": "ipython",
    "version": 3
   },
   "file_extension": ".py",
   "mimetype": "text/x-python",
   "name": "python",
   "nbconvert_exporter": "python",
   "pygments_lexer": "ipython3",
   "version": "3.7.6"
  },
  "varInspector": {
   "cols": {
    "lenName": 16,
    "lenType": 16,
    "lenVar": 40
   },
   "kernels_config": {
    "python": {
     "delete_cmd_postfix": "",
     "delete_cmd_prefix": "del ",
     "library": "var_list.py",
     "varRefreshCmd": "print(var_dic_list())"
    },
    "r": {
     "delete_cmd_postfix": ") ",
     "delete_cmd_prefix": "rm(",
     "library": "var_list.r",
     "varRefreshCmd": "cat(var_dic_list()) "
    }
   },
   "types_to_exclude": [
    "module",
    "function",
    "builtin_function_or_method",
    "instance",
    "_Feature"
   ],
   "window_display": false
  }
 },
 "nbformat": 4,
 "nbformat_minor": 4
}
