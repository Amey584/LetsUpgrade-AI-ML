{
 "cells": [
  {
   "cell_type": "markdown",
   "metadata": {},
   "source": [
    "## Question 1 :\n",
    "__Research on whether addition, subtraction, multiplication, division, floor division and modulo\n",
    "operations be performed on complex numbers. Based on your study, implement a Python\n",
    "program to demonstrate these operations__"
   ]
  },
  {
   "cell_type": "code",
   "execution_count": 21,
   "metadata": {},
   "outputs": [
    {
     "name": "stdout",
     "output_type": "stream",
     "text": [
      "(7+7j)\n",
      "(3+1j)\n",
      "(-2+23j)\n",
      "(1.6923076923076923-0.5384615384615385j)\n"
     ]
    }
   ],
   "source": [
    "# Question1\n",
    "a = 5+4j\n",
    "b = 2+3j\n",
    "\n",
    "print(a+b)\n",
    "print(a-b)\n",
    "print(a*b)\n",
    "print(a/b)"
   ]
  },
  {
   "cell_type": "markdown",
   "metadata": {},
   "source": [
    "__Observations:__\n",
    "___In Python, Complex Numbers does not support floor division and Modulo operations___"
   ]
  },
  {
   "cell_type": "markdown",
   "metadata": {},
   "source": [
    "## Question 2 :\n",
    "__Research on range() functions and its parameters. Create a markdown cell and write in your own\n",
    "words (no copy-paste from google please) what you understand about it. Implement a small\n",
    "program of your choice on the same__"
   ]
  },
  {
   "cell_type": "markdown",
   "metadata": {},
   "source": [
    "__Range function:__<br>\n",
    "Syntax: range(start, stop, step)<br>\n",
    "In simple words this function generates a sequence of integers starting from __start__ till __(stop-1)__ with a step of __step_value__<br>\n",
    "start -- Optional argument, default value = 0<br>\n",
    "stop  -- Mandatory argument, this number is not included<br>\n",
    "step  -- Optional argument"
   ]
  },
  {
   "cell_type": "code",
   "execution_count": 49,
   "metadata": {},
   "outputs": [
    {
     "name": "stdout",
     "output_type": "stream",
     "text": [
      "even nos = 2 4 6 8 10   odd nos = 1 3 5 7 9 \n"
     ]
    }
   ],
   "source": [
    "# Segregating even and odd numbers\n",
    "x = range(11)\n",
    "seq2 = \"\"\n",
    "seq1 = \"\"\n",
    "for n in x:\n",
    "    if n > 0:\n",
    "        if n % 2 == 0:\n",
    "            seq1 = seq1 + str(n) + \" \"\n",
    "        else:\n",
    "            seq2 = seq2 + str(n) + \" \"\n",
    "print(\"even nos =\", seq1, \" odd nos =\", seq2)"
   ]
  },
  {
   "cell_type": "markdown",
   "metadata": {},
   "source": [
    "## Question 3:\n",
    "__Consider two numbers. Perform their subtraction and if the result of subtraction is greater than\n",
    "25, print their multiplication result else print their division result__"
   ]
  },
  {
   "cell_type": "code",
   "execution_count": 8,
   "metadata": {},
   "outputs": [
    {
     "name": "stdout",
     "output_type": "stream",
     "text": [
      "Result: 784\n"
     ]
    }
   ],
   "source": [
    "# Question 3\n",
    "num1 = 56\n",
    "num2 = 14\n",
    "result = num1-num2\n",
    "if result > 25:\n",
    "    num3 = num1*num2\n",
    "else:\n",
    "    num3 = num1/num2\n",
    "print(\"Result:\", num3)"
   ]
  },
  {
   "cell_type": "markdown",
   "metadata": {},
   "source": [
    "## Question 4 :\n",
    "__Consider a list of 10 elements of integer values. If the number in the list is divisible by 2, print the\n",
    "result as \"square of that number minus 2\"__"
   ]
  },
  {
   "cell_type": "code",
   "execution_count": 7,
   "metadata": {},
   "outputs": [
    {
     "name": "stdout",
     "output_type": "stream",
     "text": [
      "Selected No. = 14 , Result = 194\n",
      "Selected No. = 78 , Result = 6082\n",
      "Selected No. = 32 , Result = 1022\n",
      "Selected No. = 16 , Result = 254\n",
      "Selected No. = 8 , Result = 62\n"
     ]
    }
   ],
   "source": [
    "# Question 4\n",
    "Numlist = [5, 9, 14, 35, 78, 25, 32, 16, 8, 7]\n",
    "for x in Numlist:\n",
    "    if x % 2 == 0:\n",
    "        result = x**2-2\n",
    "        print(\"Selected No. =\", x, \", Result =\", result)"
   ]
  },
  {
   "cell_type": "markdown",
   "metadata": {},
   "source": [
    "## Question 5 :\n",
    "__Consider a list of 10 elements. Print all the elements in the list which are greater than 7 when that\n",
    "number is divided 2__"
   ]
  },
  {
   "cell_type": "code",
   "execution_count": 50,
   "metadata": {
    "code_folding": []
   },
   "outputs": [
    {
     "name": "stdout",
     "output_type": "stream",
     "text": [
      "35\n",
      "78\n",
      "25\n",
      "32\n",
      "16\n"
     ]
    }
   ],
   "source": [
    "# Question 5## Question 2 :\n",
    "Numlist = [5, 9, 14, 35, 78, 25, 32, 16, 8, 7]\n",
    "for x in Numlist:\n",
    "    if x/2 > 7:\n",
    "        print(x)"
   ]
  },
  {
   "cell_type": "code",
   "execution_count": null,
   "metadata": {},
   "outputs": [],
   "source": []
  }
 ],
 "metadata": {
  "kernelspec": {
   "display_name": "Python 3",
   "language": "python",
   "name": "python3"
  },
  "language_info": {
   "codemirror_mode": {
    "name": "ipython",
    "version": 3
   },
   "file_extension": ".py",
   "mimetype": "text/x-python",
   "name": "python",
   "nbconvert_exporter": "python",
   "pygments_lexer": "ipython3",
   "version": "3.7.6"
  },
  "varInspector": {
   "cols": {
    "lenName": 16,
    "lenType": 16,
    "lenVar": 40
   },
   "kernels_config": {
    "python": {
     "delete_cmd_postfix": "",
     "delete_cmd_prefix": "del ",
     "library": "var_list.py",
     "varRefreshCmd": "print(var_dic_list())"
    },
    "r": {
     "delete_cmd_postfix": ") ",
     "delete_cmd_prefix": "rm(",
     "library": "var_list.r",
     "varRefreshCmd": "cat(var_dic_list()) "
    }
   },
   "position": {
    "height": "144px",
    "left": "824px",
    "right": "20px",
    "top": "242px",
    "width": "350px"
   },
   "types_to_exclude": [
    "module",
    "function",
    "builtin_function_or_method",
    "instance",
    "_Feature"
   ],
   "window_display": false
  }
 },
 "nbformat": 4,
 "nbformat_minor": 4
}
